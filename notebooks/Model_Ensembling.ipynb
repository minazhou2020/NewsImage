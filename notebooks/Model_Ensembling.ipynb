{
 "cells": [
  {
   "cell_type": "markdown",
   "id": "5dc715e9",
   "metadata": {},
   "source": [
    "### Model Ensembling"
   ]
  },
  {
   "cell_type": "markdown",
   "id": "2e3b922c",
   "metadata": {},
   "source": [
    "**This is a sample of how to use following Model_Ensembling classes**"
   ]
  },
  {
   "cell_type": "markdown",
   "id": "9f18e68f",
   "metadata": {},
   "source": [
    "convert a file into a dictionary respresenting results from image captioning based model"
   ]
  },
  {
   "cell_type": "code",
   "execution_count": 141,
   "id": "692bbc07",
   "metadata": {},
   "outputs": [],
   "source": [
    "def cal_caption_result (caption_sim_wmd_file):\n",
    "    lines_caption_sim = []\n",
    "    with open(caption_sim_wmd_file) as f:\n",
    "        lines_caption_sim = f.readlines()\n",
    "    ar_cap_sim_dic={}\n",
    "    for line in lines_caption_sim:\n",
    "        segs=line.strip().split(\"\\t\")\n",
    "        if segs[0] not in ar_cap_sim_dic:\n",
    "            ar_cap_sim_dic[segs[0]]={}\n",
    "        ar_cap_sim_dic[segs[0]][os.path.splitext(segs[1])[0]]= 1-float(segs[2])\n",
    "    return ar_cap_sim_dic"
   ]
  },
  {
   "cell_type": "code",
   "execution_count": 142,
   "id": "ec00763b",
   "metadata": {},
   "outputs": [],
   "source": [
    "ar_cap_sim_dic=cal_caption_result(r\"result\\test_caption_sim_wmd.txt\")"
   ]
  },
  {
   "cell_type": "code",
   "execution_count": 143,
   "id": "86993fd5",
   "metadata": {},
   "outputs": [
    {
     "name": "stdout",
     "output_type": "stream",
     "text": [
      "1915\n"
     ]
    }
   ],
   "source": [
    "print(len(ar_cap_sim_dic))"
   ]
  },
  {
   "cell_type": "markdown",
   "id": "da7b4bef",
   "metadata": {},
   "source": [
    "convert a file into a dictionary respresenting results from face name matching based model"
   ]
  },
  {
   "cell_type": "code",
   "execution_count": 144,
   "id": "c780c341",
   "metadata": {},
   "outputs": [],
   "source": [
    "def face_matching_result (face_matching_file):\n",
    "    image_train_sim = []\n",
    "    with open(face_matching_file) as f:\n",
    "        image_train_sim = f.readlines()\n",
    "    ar_train_sim_dic={}\n",
    "    for line in image_train_sim:\n",
    "        segs=line.strip().split(\"\\t\")\n",
    "        if segs[0] not in ar_train_sim_dic:\n",
    "            ar_train_sim_dic[segs[0]]=[]\n",
    "        ar_train_sim_dic[segs[0]].append((os.path.splitext(segs[1])[0], segs[2], segs[3]))\n",
    "    ar_train_sim_dic_cal={}\n",
    "    \n",
    "    for k, v in ar_train_sim_dic.items():\n",
    "        if k not in ar_train_sim_dic_cal:\n",
    "            ar_train_sim_dic_cal[k]={}\n",
    "        for item in v:\n",
    "            if int(item[2])==0:\n",
    "                sim=0\n",
    "            else:\n",
    "                sim=(1-float(item[1]))*int(item[2])\n",
    "            ar_train_sim_dic_cal[k][item[0]]= sim\n",
    "    return ar_train_sim_dic_cal"
   ]
  },
  {
   "cell_type": "code",
   "execution_count": 145,
   "id": "85b55a42",
   "metadata": {},
   "outputs": [],
   "source": [
    "ar_train_sim_dic_cal=face_matching_result(r\"result\\test_train_img_similarity.txt\")"
   ]
  },
  {
   "cell_type": "code",
   "execution_count": 146,
   "id": "9819ddbc",
   "metadata": {},
   "outputs": [],
   "source": [
    "ar_crawl_sim_dic_cal=face_matching_result(r\"result\\test_crawl_img_similarity.txt\")"
   ]
  },
  {
   "cell_type": "code",
   "execution_count": 147,
   "id": "c85fd534",
   "metadata": {},
   "outputs": [
    {
     "name": "stdout",
     "output_type": "stream",
     "text": [
      "191\n"
     ]
    }
   ],
   "source": [
    "print(len(ar_crawl_sim_dic_cal))"
   ]
  },
  {
   "cell_type": "markdown",
   "id": "87d3fcb1",
   "metadata": {},
   "source": [
    "normalize value of a given dictionary (Min-max normalization)"
   ]
  },
  {
   "cell_type": "code",
   "execution_count": 148,
   "id": "2a0d9d72",
   "metadata": {},
   "outputs": [],
   "source": [
    "def norm_dict(a_dict):\n",
    "    result={}\n",
    "    amin, amax = min(a_dict.values()), max(a_dict.values())\n",
    "    for k, v in a_dict.items():\n",
    "        if amax-amin==0:\n",
    "            result[k]=0\n",
    "        else:\n",
    "            result[k] = (v-amin) / (amax-amin)\n",
    "    return result"
   ]
  },
  {
   "cell_type": "markdown",
   "id": "6d197a9b",
   "metadata": {},
   "source": [
    "normalize value of a given dictionary \n",
    "the dictionary respresents results from face name matching based model"
   ]
  },
  {
   "cell_type": "code",
   "execution_count": 149,
   "id": "ac1850b0",
   "metadata": {},
   "outputs": [],
   "source": [
    "def norm_sim(a_dict):\n",
    "    result={}\n",
    "    print(len(a_dict))\n",
    "    for k, v in a_dict.items():\n",
    "        result[k]=norm_dict(v)\n",
    "    return result"
   ]
  },
  {
   "cell_type": "markdown",
   "id": "9e4be5e8",
   "metadata": {},
   "source": [
    "sort the value in the given dictionary"
   ]
  },
  {
   "cell_type": "code",
   "execution_count": 150,
   "id": "b06e99a7",
   "metadata": {},
   "outputs": [],
   "source": [
    "def sort_dict(a_dict):\n",
    "    normalized_dict=norm_sim(a_dict)\n",
    "    result = {}\n",
    "    for k, v in normalized_dict.items():\n",
    "        sort_v = dict(sorted(v.items(), key=lambda item: item[1], reverse=True))\n",
    "        result[k] = sort_v\n",
    "    return result"
   ]
  },
  {
   "cell_type": "markdown",
   "id": "f47a3455",
   "metadata": {},
   "source": [
    "sort dictionary respresenting results from face name matching based model\n",
    "sort dictionary respresenting results from image captioning matching based model"
   ]
  },
  {
   "cell_type": "code",
   "execution_count": 151,
   "id": "b01834e7",
   "metadata": {},
   "outputs": [
    {
     "name": "stdout",
     "output_type": "stream",
     "text": [
      "1915\n",
      "128\n",
      "191\n"
     ]
    }
   ],
   "source": [
    "cap_dict=sort_dict(ar_cap_sim_dic)\n",
    "train_dict=sort_dict(ar_train_sim_dic_cal)\n",
    "crawl_dict=sort_dict(ar_crawl_sim_dic_cal)"
   ]
  },
  {
   "cell_type": "markdown",
   "id": "2aaa0af5",
   "metadata": {},
   "source": [
    "merge results from image captioning based model and results from face matching based model"
   ]
  },
  {
   "cell_type": "code",
   "execution_count": 152,
   "id": "fd62c42a",
   "metadata": {},
   "outputs": [],
   "source": [
    "def merge_cap_face(cap_dict, train_dict, crawl_dict, weight_cap, weight_img):\n",
    "    result={}\n",
    "    for k, v in cap_dict.items():\n",
    "        img_id=os.path.splitext(k)[0]\n",
    "        result[img_id]=v\n",
    "        if k in train_dict:\n",
    "            for k_tr, v_tr in train_dict[k].items():\n",
    "                result[img_id][k_tr]=v_tr*weight_img\n",
    "        if k in crawl_dict:\n",
    "            for k_cr, v_cr in crawl_dict[k].items():\n",
    "                result[img_id][k_cr]=v_cr*weight_img\n",
    "    return result"
   ]
  },
  {
   "cell_type": "code",
   "execution_count": 153,
   "id": "1f74b089",
   "metadata": {},
   "outputs": [],
   "source": [
    "cap_face_result=merge_cap_face(cap_dict, train_dict, crawl_dict, 0.5, 0.5)"
   ]
  },
  {
   "cell_type": "code",
   "execution_count": 155,
   "id": "ba345398",
   "metadata": {},
   "outputs": [
    {
     "name": "stdout",
     "output_type": "stream",
     "text": [
      "1915\n"
     ]
    }
   ],
   "source": [
    "sorted_cap_face_result=sort_dict(cap_face_result)"
   ]
  },
  {
   "cell_type": "markdown",
   "id": "357936fb",
   "metadata": {},
   "source": [
    "truncate image candidates into top 100 list for each article"
   ]
  },
  {
   "cell_type": "code",
   "execution_count": 156,
   "id": "07169a92",
   "metadata": {},
   "outputs": [],
   "source": [
    "def truncate_result(a_dict):\n",
    "    for key, value in a_dict.items():\n",
    "        l = [*value]\n",
    "        l_100 = l[0:100]\n",
    "        a_dict[key]=l_100"
   ]
  },
  {
   "cell_type": "code",
   "execution_count": 157,
   "id": "ee26e63a",
   "metadata": {},
   "outputs": [],
   "source": [
    "truncate_result(sorted_cap_face_result)"
   ]
  },
  {
   "cell_type": "code",
   "execution_count": 158,
   "id": "bf8f5de3",
   "metadata": {},
   "outputs": [
    {
     "data": {
      "text/plain": [
       "1915"
      ]
     },
     "execution_count": 158,
     "metadata": {},
     "output_type": "execute_result"
    }
   ],
   "source": [
    "len(sorted_cap_face_result)"
   ]
  },
  {
   "cell_type": "markdown",
   "id": "006445d5",
   "metadata": {},
   "source": [
    "acquire result from url matching based method"
   ]
  },
  {
   "cell_type": "code",
   "execution_count": 159,
   "id": "e0e6a46d",
   "metadata": {},
   "outputs": [
    {
     "name": "stdout",
     "output_type": "stream",
     "text": [
      "matching url\n",
      "1772\n",
      "1772\n"
     ]
    }
   ],
   "source": [
    "img_id_name_dict = extract_img_url_token(\"../data/MediaEvalNewsImagesBatch04images.tsv\",\n",
    "                                              TEST_I_ID_IDX,\n",
    "                                              TEST_IMG_URL_IDX)\n",
    "article_id_name_dict = extract_article_token(\"../data/MediaEvalNewsImagesBatch04articles.tsv\", \n",
    "                                             TEST_A_ID_IDX,\n",
    "                                             TEST_TITLE_IDX)\n",
    "url_result = match_url(article_id_name_dict, img_id_name_dict)"
   ]
  },
  {
   "cell_type": "markdown",
   "id": "c262b3d1",
   "metadata": {},
   "source": [
    "merge result from url matching based model into result"
   ]
  },
  {
   "cell_type": "code",
   "execution_count": 160,
   "id": "79a08927",
   "metadata": {},
   "outputs": [],
   "source": [
    "def merge_url(final_cap_face_result, url_result):\n",
    "    final_result={}\n",
    "    for s_id, s_value in final_cap_face_result.items():\n",
    "        if s_id in result:\n",
    "            diff_elements = [x for x in url_result[s_id] if x not in s_value ]\n",
    "            common_elements= [x for x in s_value if x in url_result[s_id] ]\n",
    "            tail_elements=s_value[len(s_value)-len(diff_elements):]\n",
    "            common_ele_in_tail=[x for x in common_elements if x in tail_elements]\n",
    "            if len(common_ele_in_tail)>0:\n",
    "                new_value=diff_elements+common_ele_in_tail+s_value[:len(s_value)-len(diff_elements)-len(common_ele_in_tail)]\n",
    "            else:\n",
    "                new_value=diff_elements+s_value[:len(s_value)-len(diff_elements)]\n",
    "            final_result[s_id]= new_value\n",
    "\n",
    "        else:\n",
    "            final_result[s_id]=s_value\n",
    "    return final_result"
   ]
  },
  {
   "cell_type": "code",
   "execution_count": 161,
   "id": "a67ab1f0",
   "metadata": {},
   "outputs": [],
   "source": [
    "final_result=merge_url(sorted_cap_face_result, url_result)"
   ]
  },
  {
   "cell_type": "markdown",
   "id": "0c7a3153",
   "metadata": {},
   "source": [
    "save final result into a file"
   ]
  },
  {
   "cell_type": "code",
   "execution_count": 162,
   "id": "d0bcac9e",
   "metadata": {},
   "outputs": [],
   "source": [
    "def save_final_result(output_file, final_result):\n",
    "    with open(output_file, \"w\") as the_file:\n",
    "        header=\"particleID\"\n",
    "        for i in range(100):\n",
    "            header+=\"\\t\"+\"iid\"+str(i+1)\n",
    "        the_file.write(header+\"\\n\")\n",
    "        for key, value in final_result.items():\n",
    "            the_file.write(key+'\\t'+ \"\\t\".join(value)+\"\\n\")"
   ]
  },
  {
   "cell_type": "code",
   "execution_count": 163,
   "id": "6d5634dc",
   "metadata": {},
   "outputs": [],
   "source": [
    "save_final_result(r\"result\\final_result.tsv\", final_result)"
   ]
  },
  {
   "cell_type": "markdown",
   "id": "9af0a321",
   "metadata": {},
   "source": [
    "Result Exploring"
   ]
  },
  {
   "cell_type": "code",
   "execution_count": 165,
   "id": "41b5aef1",
   "metadata": {},
   "outputs": [],
   "source": [
    "df=pd.read_csv(r\"result\\final_result.tsv\", delimiter=\"\\t\")"
   ]
  },
  {
   "cell_type": "code",
   "execution_count": 166,
   "id": "517db82a",
   "metadata": {},
   "outputs": [
    {
     "data": {
      "text/html": [
       "<div>\n",
       "<style scoped>\n",
       "    .dataframe tbody tr th:only-of-type {\n",
       "        vertical-align: middle;\n",
       "    }\n",
       "\n",
       "    .dataframe tbody tr th {\n",
       "        vertical-align: top;\n",
       "    }\n",
       "\n",
       "    .dataframe thead th {\n",
       "        text-align: right;\n",
       "    }\n",
       "</style>\n",
       "<table border=\"1\" class=\"dataframe\">\n",
       "  <thead>\n",
       "    <tr style=\"text-align: right;\">\n",
       "      <th></th>\n",
       "      <th>particleID</th>\n",
       "      <th>iid1</th>\n",
       "      <th>iid2</th>\n",
       "      <th>iid3</th>\n",
       "      <th>iid4</th>\n",
       "      <th>iid5</th>\n",
       "      <th>iid6</th>\n",
       "      <th>iid7</th>\n",
       "      <th>iid8</th>\n",
       "      <th>iid9</th>\n",
       "      <th>...</th>\n",
       "      <th>iid91</th>\n",
       "      <th>iid92</th>\n",
       "      <th>iid93</th>\n",
       "      <th>iid94</th>\n",
       "      <th>iid95</th>\n",
       "      <th>iid96</th>\n",
       "      <th>iid97</th>\n",
       "      <th>iid98</th>\n",
       "      <th>iid99</th>\n",
       "      <th>iid100</th>\n",
       "    </tr>\n",
       "  </thead>\n",
       "  <tbody>\n",
       "    <tr>\n",
       "      <th>0</th>\n",
       "      <td>1000265260</td>\n",
       "      <td>134746</td>\n",
       "      <td>134710</td>\n",
       "      <td>135977</td>\n",
       "      <td>134622</td>\n",
       "      <td>134853</td>\n",
       "      <td>136039</td>\n",
       "      <td>136139</td>\n",
       "      <td>136193</td>\n",
       "      <td>134762</td>\n",
       "      <td>...</td>\n",
       "      <td>134315</td>\n",
       "      <td>134322</td>\n",
       "      <td>134510</td>\n",
       "      <td>135693</td>\n",
       "      <td>134997</td>\n",
       "      <td>135109</td>\n",
       "      <td>135698</td>\n",
       "      <td>134633</td>\n",
       "      <td>136319</td>\n",
       "      <td>134726</td>\n",
       "    </tr>\n",
       "    <tr>\n",
       "      <th>1</th>\n",
       "      <td>1001935289</td>\n",
       "      <td>135908</td>\n",
       "      <td>135628</td>\n",
       "      <td>134775</td>\n",
       "      <td>136331</td>\n",
       "      <td>134390</td>\n",
       "      <td>136306</td>\n",
       "      <td>134381</td>\n",
       "      <td>134409</td>\n",
       "      <td>134909</td>\n",
       "      <td>...</td>\n",
       "      <td>136045</td>\n",
       "      <td>136458</td>\n",
       "      <td>136137</td>\n",
       "      <td>134266</td>\n",
       "      <td>134868</td>\n",
       "      <td>135007</td>\n",
       "      <td>135435</td>\n",
       "      <td>136062</td>\n",
       "      <td>136172</td>\n",
       "      <td>136179</td>\n",
       "    </tr>\n",
       "    <tr>\n",
       "      <th>2</th>\n",
       "      <td>1002375244</td>\n",
       "      <td>136277</td>\n",
       "      <td>134791</td>\n",
       "      <td>136639</td>\n",
       "      <td>134624</td>\n",
       "      <td>134416</td>\n",
       "      <td>135315</td>\n",
       "      <td>135770</td>\n",
       "      <td>136169</td>\n",
       "      <td>136530</td>\n",
       "      <td>...</td>\n",
       "      <td>135374</td>\n",
       "      <td>135406</td>\n",
       "      <td>135453</td>\n",
       "      <td>135626</td>\n",
       "      <td>135924</td>\n",
       "      <td>135952</td>\n",
       "      <td>136016</td>\n",
       "      <td>136106</td>\n",
       "      <td>136168</td>\n",
       "      <td>136189</td>\n",
       "    </tr>\n",
       "    <tr>\n",
       "      <th>3</th>\n",
       "      <td>1002735288</td>\n",
       "      <td>136819</td>\n",
       "      <td>136242</td>\n",
       "      <td>134962</td>\n",
       "      <td>134606</td>\n",
       "      <td>136361</td>\n",
       "      <td>134390</td>\n",
       "      <td>134123</td>\n",
       "      <td>134231</td>\n",
       "      <td>134332</td>\n",
       "      <td>...</td>\n",
       "      <td>136561</td>\n",
       "      <td>134322</td>\n",
       "      <td>136431</td>\n",
       "      <td>134502</td>\n",
       "      <td>134709</td>\n",
       "      <td>136243</td>\n",
       "      <td>134149</td>\n",
       "      <td>134162</td>\n",
       "      <td>134733</td>\n",
       "      <td>134788</td>\n",
       "    </tr>\n",
       "    <tr>\n",
       "      <th>4</th>\n",
       "      <td>1002835245</td>\n",
       "      <td>135405</td>\n",
       "      <td>136751</td>\n",
       "      <td>134806</td>\n",
       "      <td>135863</td>\n",
       "      <td>136083</td>\n",
       "      <td>135390</td>\n",
       "      <td>136320</td>\n",
       "      <td>136390</td>\n",
       "      <td>134853</td>\n",
       "      <td>...</td>\n",
       "      <td>135534</td>\n",
       "      <td>135709</td>\n",
       "      <td>134206</td>\n",
       "      <td>136624</td>\n",
       "      <td>136931</td>\n",
       "      <td>136639</td>\n",
       "      <td>136288</td>\n",
       "      <td>134634</td>\n",
       "      <td>134627</td>\n",
       "      <td>135606</td>\n",
       "    </tr>\n",
       "    <tr>\n",
       "      <th>...</th>\n",
       "      <td>...</td>\n",
       "      <td>...</td>\n",
       "      <td>...</td>\n",
       "      <td>...</td>\n",
       "      <td>...</td>\n",
       "      <td>...</td>\n",
       "      <td>...</td>\n",
       "      <td>...</td>\n",
       "      <td>...</td>\n",
       "      <td>...</td>\n",
       "      <td>...</td>\n",
       "      <td>...</td>\n",
       "      <td>...</td>\n",
       "      <td>...</td>\n",
       "      <td>...</td>\n",
       "      <td>...</td>\n",
       "      <td>...</td>\n",
       "      <td>...</td>\n",
       "      <td>...</td>\n",
       "      <td>...</td>\n",
       "      <td>...</td>\n",
       "    </tr>\n",
       "    <tr>\n",
       "      <th>1910</th>\n",
       "      <td>1999075246</td>\n",
       "      <td>135716</td>\n",
       "      <td>134131</td>\n",
       "      <td>135146</td>\n",
       "      <td>135009</td>\n",
       "      <td>135268</td>\n",
       "      <td>135742</td>\n",
       "      <td>135805</td>\n",
       "      <td>136327</td>\n",
       "      <td>134737</td>\n",
       "      <td>...</td>\n",
       "      <td>137028</td>\n",
       "      <td>135043</td>\n",
       "      <td>134556</td>\n",
       "      <td>134699</td>\n",
       "      <td>134729</td>\n",
       "      <td>134770</td>\n",
       "      <td>134923</td>\n",
       "      <td>135112</td>\n",
       "      <td>135368</td>\n",
       "      <td>135506</td>\n",
       "    </tr>\n",
       "    <tr>\n",
       "      <th>1911</th>\n",
       "      <td>1999165241</td>\n",
       "      <td>134482</td>\n",
       "      <td>135136</td>\n",
       "      <td>135987</td>\n",
       "      <td>136178</td>\n",
       "      <td>136355</td>\n",
       "      <td>136646</td>\n",
       "      <td>136889</td>\n",
       "      <td>136763</td>\n",
       "      <td>134782</td>\n",
       "      <td>...</td>\n",
       "      <td>136791</td>\n",
       "      <td>135627</td>\n",
       "      <td>136258</td>\n",
       "      <td>134220</td>\n",
       "      <td>134356</td>\n",
       "      <td>136583</td>\n",
       "      <td>136668</td>\n",
       "      <td>134291</td>\n",
       "      <td>136412</td>\n",
       "      <td>136326</td>\n",
       "    </tr>\n",
       "    <tr>\n",
       "      <th>1912</th>\n",
       "      <td>1999345240</td>\n",
       "      <td>136293</td>\n",
       "      <td>135876</td>\n",
       "      <td>135329</td>\n",
       "      <td>136288</td>\n",
       "      <td>136356</td>\n",
       "      <td>135714</td>\n",
       "      <td>134205</td>\n",
       "      <td>134395</td>\n",
       "      <td>135003</td>\n",
       "      <td>...</td>\n",
       "      <td>136679</td>\n",
       "      <td>136669</td>\n",
       "      <td>134933</td>\n",
       "      <td>136116</td>\n",
       "      <td>135566</td>\n",
       "      <td>136096</td>\n",
       "      <td>135390</td>\n",
       "      <td>135844</td>\n",
       "      <td>136285</td>\n",
       "      <td>134557</td>\n",
       "    </tr>\n",
       "    <tr>\n",
       "      <th>1913</th>\n",
       "      <td>1999355239</td>\n",
       "      <td>134193</td>\n",
       "      <td>136200</td>\n",
       "      <td>135183</td>\n",
       "      <td>135391</td>\n",
       "      <td>135705</td>\n",
       "      <td>135853</td>\n",
       "      <td>135432</td>\n",
       "      <td>135722</td>\n",
       "      <td>135813</td>\n",
       "      <td>...</td>\n",
       "      <td>136327</td>\n",
       "      <td>134336</td>\n",
       "      <td>134523</td>\n",
       "      <td>136558</td>\n",
       "      <td>136988</td>\n",
       "      <td>134946</td>\n",
       "      <td>135912</td>\n",
       "      <td>136476</td>\n",
       "      <td>134380</td>\n",
       "      <td>134397</td>\n",
       "    </tr>\n",
       "    <tr>\n",
       "      <th>1914</th>\n",
       "      <td>1999735294</td>\n",
       "      <td>136898</td>\n",
       "      <td>134284</td>\n",
       "      <td>135317</td>\n",
       "      <td>135973</td>\n",
       "      <td>136439</td>\n",
       "      <td>136295</td>\n",
       "      <td>136588</td>\n",
       "      <td>137181</td>\n",
       "      <td>136322</td>\n",
       "      <td>...</td>\n",
       "      <td>135127</td>\n",
       "      <td>136193</td>\n",
       "      <td>135885</td>\n",
       "      <td>135618</td>\n",
       "      <td>135641</td>\n",
       "      <td>136151</td>\n",
       "      <td>137029</td>\n",
       "      <td>134974</td>\n",
       "      <td>134728</td>\n",
       "      <td>135533</td>\n",
       "    </tr>\n",
       "  </tbody>\n",
       "</table>\n",
       "<p>1915 rows × 101 columns</p>\n",
       "</div>"
      ],
      "text/plain": [
       "      particleID    iid1    iid2    iid3    iid4    iid5    iid6    iid7  \\\n",
       "0     1000265260  134746  134710  135977  134622  134853  136039  136139   \n",
       "1     1001935289  135908  135628  134775  136331  134390  136306  134381   \n",
       "2     1002375244  136277  134791  136639  134624  134416  135315  135770   \n",
       "3     1002735288  136819  136242  134962  134606  136361  134390  134123   \n",
       "4     1002835245  135405  136751  134806  135863  136083  135390  136320   \n",
       "...          ...     ...     ...     ...     ...     ...     ...     ...   \n",
       "1910  1999075246  135716  134131  135146  135009  135268  135742  135805   \n",
       "1911  1999165241  134482  135136  135987  136178  136355  136646  136889   \n",
       "1912  1999345240  136293  135876  135329  136288  136356  135714  134205   \n",
       "1913  1999355239  134193  136200  135183  135391  135705  135853  135432   \n",
       "1914  1999735294  136898  134284  135317  135973  136439  136295  136588   \n",
       "\n",
       "        iid8    iid9  ...   iid91   iid92   iid93   iid94   iid95   iid96  \\\n",
       "0     136193  134762  ...  134315  134322  134510  135693  134997  135109   \n",
       "1     134409  134909  ...  136045  136458  136137  134266  134868  135007   \n",
       "2     136169  136530  ...  135374  135406  135453  135626  135924  135952   \n",
       "3     134231  134332  ...  136561  134322  136431  134502  134709  136243   \n",
       "4     136390  134853  ...  135534  135709  134206  136624  136931  136639   \n",
       "...      ...     ...  ...     ...     ...     ...     ...     ...     ...   \n",
       "1910  136327  134737  ...  137028  135043  134556  134699  134729  134770   \n",
       "1911  136763  134782  ...  136791  135627  136258  134220  134356  136583   \n",
       "1912  134395  135003  ...  136679  136669  134933  136116  135566  136096   \n",
       "1913  135722  135813  ...  136327  134336  134523  136558  136988  134946   \n",
       "1914  137181  136322  ...  135127  136193  135885  135618  135641  136151   \n",
       "\n",
       "       iid97   iid98   iid99  iid100  \n",
       "0     135698  134633  136319  134726  \n",
       "1     135435  136062  136172  136179  \n",
       "2     136016  136106  136168  136189  \n",
       "3     134149  134162  134733  134788  \n",
       "4     136288  134634  134627  135606  \n",
       "...      ...     ...     ...     ...  \n",
       "1910  134923  135112  135368  135506  \n",
       "1911  136668  134291  136412  136326  \n",
       "1912  135390  135844  136285  134557  \n",
       "1913  135912  136476  134380  134397  \n",
       "1914  137029  134974  134728  135533  \n",
       "\n",
       "[1915 rows x 101 columns]"
      ]
     },
     "execution_count": 166,
     "metadata": {},
     "output_type": "execute_result"
    }
   ],
   "source": [
    "df"
   ]
  },
  {
   "cell_type": "code",
   "execution_count": null,
   "id": "b1049da9",
   "metadata": {},
   "outputs": [],
   "source": []
  }
 ],
 "metadata": {
  "kernelspec": {
   "display_name": "Python 3 (ipykernel)",
   "language": "python",
   "name": "python3"
  },
  "language_info": {
   "codemirror_mode": {
    "name": "ipython",
    "version": 3
   },
   "file_extension": ".py",
   "mimetype": "text/x-python",
   "name": "python",
   "nbconvert_exporter": "python",
   "pygments_lexer": "ipython3",
   "version": "3.8.10"
  }
 },
 "nbformat": 4,
 "nbformat_minor": 5
}
