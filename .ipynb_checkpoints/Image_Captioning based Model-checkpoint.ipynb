{
 "cells": [
  {
   "cell_type": "markdown",
   "id": "27f75bb4",
   "metadata": {},
   "source": [
    "**This is a sample of how to use Image_Caption class**"
   ]
  },
  {
   "cell_type": "markdown",
   "id": "9f537d11",
   "metadata": {},
   "source": [
    "## Image Captioning based Model\n",
    "- acquired image caption from the pre-trained image captioning model (https://github.com/ruotianluo/ImageCaptioning.pytorch)\n",
    "- caculate the wmd between the each pair of image caption and article title\n",
    "- sort the potential matched image list by the wmd"
   ]
  },
  {
   "cell_type": "code",
   "execution_count": 13,
   "id": "44a42690",
   "metadata": {},
   "outputs": [],
   "source": [
    "from scipy import spatial\n",
    "import gensim.downloader as api"
   ]
  },
  {
   "cell_type": "code",
   "execution_count": 14,
   "id": "93b3ea7b",
   "metadata": {},
   "outputs": [],
   "source": [
    "model = api.load(\"word2vec-google-news-300\")"
   ]
  },
  {
   "cell_type": "code",
   "execution_count": 58,
   "id": "83ff14ac",
   "metadata": {},
   "outputs": [],
   "source": [
    "def get_caption (caption_file):\n",
    "    print(caption_file)\n",
    "    articles_names=open(caption_file, 'r', encoding=\"utf-8\")\n",
    "    lines = [line.strip() for line in articles_names]\n",
    "    result_dict={}\n",
    "    for i in range(len(lines)):\n",
    "        orig_line=lines[i]\n",
    "        segs = orig_line.split(\"\\t\")\n",
    "        if segs[0] not in result_dict:\n",
    "            result_dict[segs[0]]=segs[1]\n",
    "    return result_dict"
   ]
  },
  {
   "cell_type": "code",
   "execution_count": 59,
   "id": "f0764b24",
   "metadata": {},
   "outputs": [],
   "source": [
    "def get_ar_id_title (article_file, title_eng_idx):\n",
    "    print(article_file)\n",
    "    articles_names=open(article_file, 'r', encoding=\"utf-8\")\n",
    "    next(articles_names)\n",
    "    lines = [line.strip() for line in articles_names]\n",
    "    result_dict={}\n",
    "    for i in range(len(lines)):\n",
    "        orig_line=lines[i]\n",
    "        segs = orig_line.split(\"\\t\")\n",
    "        if len(segs)>=3 and segs[0] not in result_dict:\n",
    "            result_dict[segs[0]]=segs[title_eng_idx]\n",
    "    return result_dict"
   ]
  },
  {
   "cell_type": "code",
   "execution_count": 60,
   "id": "ea1c929b",
   "metadata": {},
   "outputs": [],
   "source": [
    "def cal_sim(id_title, caption_dict):\n",
    "    sim_result = {}\n",
    "    cnt = 0\n",
    "    for ar_id, title in id_title.items():\n",
    "        caption_sim=[]\n",
    "        for img_id, caption in caption_dict.items():\n",
    "            sim = model.wmdistance(title, caption)\n",
    "            caption_sim.append((img_id, sim))\n",
    "        cnt+=1\n",
    "        sim_result[ar_id]=caption_sim\n",
    "        #print(str(datetime.now()))\n",
    "        if cnt%100 == 0:\n",
    "            print(\"complete \", cnt, \" article\")\n",
    "    return sim_result"
   ]
  },
  {
   "cell_type": "code",
   "execution_count": 61,
   "id": "71527da6",
   "metadata": {},
   "outputs": [],
   "source": [
    "def write_wmd_sim(wmd_sim_file, sim_result):\n",
    "    f = open(wmd_sim_file, \"a\")\n",
    "    for key, v in sim_result.items():\n",
    "        for item in v:\n",
    "            result=key+\"\\t\"+os.path.basename(item[0])+\"\\t\"+str(item[1])+\"\\n\"\n",
    "            f.write(result)\n",
    "    f.close()"
   ]
  },
  {
   "cell_type": "code",
   "execution_count": 74,
   "id": "c98fb52e",
   "metadata": {},
   "outputs": [],
   "source": [
    "from datetime import datetime\n",
    "def img_cap_similarity(caption_file, title_file, wmd_sim_file, title_eng_idx):\n",
    "    caption_dict=get_caption (caption_file)\n",
    "    ar_id_title=get_ar_id_title (title_file, title_eng_idx)\n",
    "    sim_result=cal_sim(ar_id_title, caption_dict)\n",
    "    write_wmd_sim(wmd_sim_file, sim_result)\n",
    "    lines_caption_sim = []\n",
    "    with open(wmd_sim_file) as f:\n",
    "        lines_caption_sim = f.readlines()\n",
    "    ar_cap_sim_dic={}\n",
    "    for line in lines_caption_sim:\n",
    "        segs=line.strip().split(\"\\t\")\n",
    "        if segs[0] not in ar_cap_sim_dic:\n",
    "            ar_cap_sim_dic[segs[0]]={}\n",
    "        ar_cap_sim_dic[segs[0]][segs[1]]= -float(segs[2])\n",
    "    sort_final_result=sort_dict(ar_cap_sim_dic)\n",
    "    return sort_final_result"
   ]
  },
  {
   "cell_type": "code",
   "execution_count": 75,
   "id": "23c5b49b",
   "metadata": {},
   "outputs": [],
   "source": [
    "def sort_dict(sim_result):\n",
    "    result={}\n",
    "    for k, v in sim_result.items():\n",
    "        sort_v=dict(sorted(v.items(), key=lambda item: item[1]))\n",
    "        result[k]=sort_v\n",
    "    return result"
   ]
  },
  {
   "cell_type": "code",
   "execution_count": 76,
   "id": "e00f1ab2",
   "metadata": {},
   "outputs": [],
   "source": [
    "def eval_cap_sim (sort_final_result):\n",
    "    count=0\n",
    "    for key, value in sort_final_result.items():\n",
    "        first_tuple_elements=[]\n",
    "        for a_tuple in value:\n",
    "            first_tuple_elements.append(a_tuple)\n",
    "        if key in first_tuple_elements[0:100]:\n",
    "            count+=1\n",
    "    return count/len(sort_final_result)"
   ]
  },
  {
   "cell_type": "code",
   "execution_count": null,
   "id": "28b16608",
   "metadata": {},
   "outputs": [],
   "source": [
    "train_result = img_cap_similarity(r\"processed_data\\data\\train_image_caption_result.txt\", \\\n",
    "                                  r\"processed_data\\data\\train_title_eng.tsv\",\\\n",
    "                                  r\"result/tr_caption_sim_wmd.tsv\", 3)"
   ]
  },
  {
   "cell_type": "code",
   "execution_count": null,
   "id": "7b950bd5",
   "metadata": {},
   "outputs": [],
   "source": [
    "eval_result = img_cap_similarity(r\"processed_data\\data\\eval_image_caption_result.txt\", \\\n",
    "                                 \"processed_data\\data\\eval_title_eng.tsv\",\\\n",
    "                                \"result/eval_caption_sim_wmd.tsv\", 3)"
   ]
  },
  {
   "cell_type": "code",
   "execution_count": null,
   "id": "3717d00b",
   "metadata": {},
   "outputs": [],
   "source": [
    "eval_cap_sim (eval_result)"
   ]
  },
  {
   "cell_type": "code",
   "execution_count": null,
   "id": "7ccc5f0c",
   "metadata": {},
   "outputs": [],
   "source": [
    "test_result = img_cap_similarity(r\"processed_data\\data\\test_image_caption_result.txt\", \\\n",
    "                                 \"processed_data\\data\\test_title_eng.tsv\",\\\n",
    "                                \"result/test_caption_sim_wmd.tsv\", 2)"
   ]
  }
 ],
 "metadata": {
  "kernelspec": {
   "display_name": "Python 3 (ipykernel)",
   "language": "python",
   "name": "python3"
  },
  "language_info": {
   "codemirror_mode": {
    "name": "ipython",
    "version": 3
   },
   "file_extension": ".py",
   "mimetype": "text/x-python",
   "name": "python",
   "nbconvert_exporter": "python",
   "pygments_lexer": "ipython3",
   "version": "3.8.10"
  }
 },
 "nbformat": 4,
 "nbformat_minor": 5
}
