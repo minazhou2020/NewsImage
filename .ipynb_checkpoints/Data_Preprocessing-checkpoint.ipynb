{
 "cells": [
  {
   "cell_type": "markdown",
   "id": "27f75bb4",
   "metadata": {},
   "source": [
    "**This is a sample of how to use Data_Preprocessing**\\"
   ]
  },
  {
   "cell_type": "markdown",
   "id": "b4e710e3",
   "metadata": {},
   "source": [
    "## Data Preprocessing\n",
    "- combine the first two batches of files for training usage\n",
    "- the third batch used for validation\n",
    "- crawl training, validation, and test images from given URLs \n",
    "- extract features: image id, image url, article_title\n",
    "- tranlsate article title into English using Google Translate API (https://github.com/ssut/py-googletrans) \\\n",
    "\n",
    "Note: The google translate python library only works in Linux OS. Save the translated text on your cloud/local machine for further processing in you use Window OS."
   ]
  },
  {
   "cell_type": "code",
   "execution_count": 47,
   "id": "ca68a69c",
   "metadata": {},
   "outputs": [],
   "source": [
    "import os\n",
    "import requests  # to get image from the web\n",
    "import shutil\n",
    "import pandas as pd\n",
    "import cv2\n",
    "import icrawler\n",
    "from icrawler.builtin  import GoogleImageCrawler"
   ]
  },
  {
   "cell_type": "code",
   "execution_count": null,
   "id": "4f641534",
   "metadata": {},
   "outputs": [],
   "source": [
    "data_folder=r\"../data\"\n",
    "os.path.isdir(data_folder)"
   ]
  },
  {
   "cell_type": "code",
   "execution_count": 51,
   "id": "9f68dfc3",
   "metadata": {},
   "outputs": [],
   "source": [
    "train_01, train_02, validation, test = \"content2019-01-v3.tsv\", \"content2019-02-v3.tsv\", \\\n",
    "\"content2019-03-v3.tsv\", \"MediaEvalNewsImagesBatch04images.tsv\""
   ]
  },
  {
   "cell_type": "code",
   "execution_count": null,
   "id": "63e58e9d",
   "metadata": {},
   "outputs": [],
   "source": [
    "def create_folder(path):\n",
    "    isExist = os.path.exists(path)\n",
    "\n",
    "    if not isExist:\n",
    "        os.makedirs(path)"
   ]
  },
  {
   "cell_type": "code",
   "execution_count": null,
   "id": "9572990d",
   "metadata": {},
   "outputs": [],
   "source": [
    "create_folder('processed_data')\n",
    "create_folder('img')\n",
    "create_folder(r'processed_data/data')\n",
    "create_folder(r'processed_data/img')\n",
    "processed_data_folder=r'processed_data/data'\n",
    "processed_img_folder=r'processed_data/img'"
   ]
  },
  {
   "cell_type": "markdown",
   "id": "1e7bca82",
   "metadata": {},
   "source": [
    "### Combine Files\n",
    "We use the first two batches as train set, and the third as validation set\\\n",
    "we combine the fist two files into a whole file and combine all three files as train_eval file for testing."
   ]
  },
  {
   "cell_type": "code",
   "execution_count": null,
   "id": "5a729270",
   "metadata": {},
   "outputs": [],
   "source": [
    "def combine_files(filenames, output_file, skip):\n",
    "    \"\"\"\n",
    "    combine_csv combine a list of files into one file\n",
    "    :param filenames: a list of filename\n",
    "    :param output_file: output file\n",
    "    \"\"\"\n",
    "    with open(output_file, \"w\", encoding=\"utf-8\") as output:\n",
    "        for i in range(len(filenames)):\n",
    "            with open(filenames[i], \"r\", encoding=\"utf-8\") as infile:\n",
    "                if i !=0 and skip:\n",
    "                    next(infile)\n",
    "                contents = infile.read()\n",
    "                output.write(contents)"
   ]
  },
  {
   "cell_type": "code",
   "execution_count": null,
   "id": "8988fc96",
   "metadata": {},
   "outputs": [],
   "source": [
    "combine_files([os.path.join(data_folder, train_01), os.path.join(data_folder, train_02)], \\\n",
    "              os.path.join(processed_data_folder, \"train.tsv\"))\n",
    "combine_files([os.path.join(data_folder, train_01), os.path.join(data_folder, train_02), \\\n",
    "                     os.path.join(data_folder, validation)], os.path.join(processed_data_folder, \"train_eval.tsv\"))"
   ]
  },
  {
   "cell_type": "code",
   "execution_count": null,
   "id": "a5368ae2",
   "metadata": {},
   "outputs": [],
   "source": [
    "df_combine_train=pd.read_csv(os.path.join(processed_data_folder, \"train.tsv\"), delimiter=\"\\t\")"
   ]
  },
  {
   "cell_type": "code",
   "execution_count": null,
   "id": "053d859e",
   "metadata": {},
   "outputs": [],
   "source": [
    "df_combine_train"
   ]
  },
  {
   "cell_type": "markdown",
   "id": "2ad09cce",
   "metadata": {},
   "source": [
    "### Load image from given urls to the image folder"
   ]
  },
  {
   "cell_type": "code",
   "execution_count": null,
   "id": "ea5e129f",
   "metadata": {},
   "outputs": [],
   "source": [
    "def load_img(data_file, img_folder, img_url_idx, img_id_idx):\n",
    "    \"\"\"\n",
    "    load_img download images from the url,\n",
    "    save images into the given image folder\n",
    "    and use image id as the image name\n",
    "    :param data_file: input file which include information such as img_url, img_id\n",
    "    :param img_folder: image folder where downloaded image are saved\n",
    "    :param img_url_idx: column idx of img url in the data_file\n",
    "    :param img_id_idx: column idx of img id in the data_file\n",
    "    \"\"\"\n",
    "    f = open(data_file, \"r\", encoding=\"utf-8\")\n",
    "    next(f)\n",
    "    print(\"start loading images\")\n",
    "    for line in f:\n",
    "        image_url = line.split(\"\\t\")[img_url_idx]\n",
    "        image_id = line.split(\"\\t\")[img_id_idx]\n",
    "        img_path = img_folder\n",
    "        isExist = os.path.exists(img_path)\n",
    "        if not isExist:\n",
    "            # Create a new directory because it does not exist\n",
    "            os.makedirs(img_path)\n",
    "            print(\"The image directory is created!\")\n",
    "        filename = os.path.join(img_path, image_id + \".jpg\")\n",
    "        r = requests.get(image_url, stream=True, headers={'User-agent': 'Mozilla/5.0'})\n",
    "        if r.status_code == 200:\n",
    "            with open(filename, 'wb') as f:\n",
    "                r.raw.decode_content = True\n",
    "                shutil.copyfileobj(r.raw, f)\n",
    "        else:\n",
    "            print(\"img can't be loaded\")"
   ]
  },
  {
   "cell_type": "code",
   "execution_count": null,
   "id": "ce119fe4",
   "metadata": {},
   "outputs": [],
   "source": [
    "load_img(os.path.join(processed_data_folder, \"train.tsv\"), \"img/training\", 3, 4)\n",
    "load_img(os.path.join(processed_data_folder, \"train_eval.tsv\"), \"img/train_eval\", 3, 4)\n",
    "load_img(os.path.join(data_folder, test), \"img/test\", 0, 1)"
   ]
  },
  {
   "cell_type": "markdown",
   "id": "97235b8f",
   "metadata": {},
   "source": [
    "### Feature Extraction"
   ]
  },
  {
   "cell_type": "code",
   "execution_count": null,
   "id": "65f1eed1",
   "metadata": {},
   "outputs": [],
   "source": [
    "def reformat_data_file(input_file, new_file):\n",
    "    \"\"\"\n",
    "    reformat_data_file reformat the given input_file to facilate the further data processing\n",
    "    :param input_file: origin tsv file\n",
    "    :param new_file: output tsv file\n",
    "    \"\"\"\n",
    "    f = open(os.path.join(input_file), \"r\", encoding=\"utf-8\")\n",
    "    next(f)\n",
    "    with open(new_file, 'a', encoding=\"utf-8\") as the_file:\n",
    "        header = \"img_id\"+\"\\t\"+\"img_name\"+\"\\t\"+\"title\"\n",
    "        the_file.write(header + \"\\n\")\n",
    "        for line in f:\n",
    "            image_id = line.split(\"\\t\")[4] + \".jpg\"\n",
    "            image_url = line.split(\"\\t\")[3].split(\"/\")[-1]\n",
    "            title = line.split(\"\\t\")[6]\n",
    "            the_file.write(image_id + \"\\t\" +image_url + \"\\t\" + title + \"\\n\")"
   ]
  },
  {
   "cell_type": "code",
   "execution_count": null,
   "id": "a2a431fc",
   "metadata": {},
   "outputs": [],
   "source": [
    "reformat_data_file(os.path.join(processed_data_folder, \"train.tsv\"), os.path.join(processed_data_folder, \"train_title.tsv\"))\n",
    "reformat_data_file(os.path.join(processed_data_folder, \"train_eval.tsv\"), os.path.join(processed_data_folder, \"train_eval_title.tsv\"))"
   ]
  },
  {
   "cell_type": "code",
   "execution_count": null,
   "id": "e0b10f6e",
   "metadata": {},
   "outputs": [],
   "source": [
    "reformat_data_file(os.path.join(data_folder, \"content2019-03-v3.tsv\"), os.path.join(processed_data_folder, \"eval_title.tsv\"))"
   ]
  },
  {
   "cell_type": "markdown",
   "id": "a71f271e",
   "metadata": {},
   "source": [
    "### Tranlate Title\n",
    "translate article title into English "
   ]
  },
  {
   "cell_type": "code",
   "execution_count": null,
   "id": "3619e235",
   "metadata": {},
   "outputs": [],
   "source": [
    "def text_trans(file_path):\n",
    "    file_text = open(file_path, 'r')\n",
    "    translator = Translator()\n",
    "    lines_text = file_text.readlines()\n",
    "    cnt = 0\n",
    "    trans_lines_text = []\n",
    "    for l_text in lines_text:\n",
    "        spes_text = l_text.split(\"\\t\")\n",
    "        result_text = translator.translate(spes_text[7], src='de')\n",
    "        trans_lines_text.append(result_text.text)\n",
    "        time.sleep(1)\n",
    "        cnt += 1\n",
    "        print(cnt)\n",
    "        if cnt % 50 == 0:\n",
    "            print(\"finish sub_lines_test_text \", cnt)\n",
    "    return trans_lines_text"
   ]
  },
  {
   "cell_type": "code",
   "execution_count": null,
   "id": "dfc23d9d",
   "metadata": {},
   "outputs": [],
   "source": [
    "def comb_title_eng(orig_file, titles_eng, output_file, aID_idx, title_idx):\n",
    "    lines = [line.strip() for line in open(orig_file, 'r', encoding=\"utf-8\")]\n",
    "    with open(output_file, 'a', encoding=\"utf-8\") as the_file:\n",
    "        for i in range(len(lines)):\n",
    "            title_eng = titles_eng[i].rstrip(\"\\n\")\n",
    "            segs = lines[i].strip(\"\\n\").split(\",\")\n",
    "            the_file.write(segs[aID_idx] + \"\\t\" + segs[title_idx] + '\\t' + title_eng + \"\\n\")"
   ]
  },
  {
   "cell_type": "code",
   "execution_count": null,
   "id": "893961d3",
   "metadata": {},
   "outputs": [],
   "source": [
    "def trans_title(orig_file,output_file):\n",
    "    trans_lines_text=text_trans(orig_file)\n",
    "    comb_title_eng(orig_file, trans_lines_text, output_file)"
   ]
  },
  {
   "cell_type": "code",
   "execution_count": null,
   "id": "67f27acc",
   "metadata": {},
   "outputs": [],
   "source": [
    "trans_title(os.path.join(processed_data_folder, \"train_title.tsv\"), os.path.join(processed_data_folder,\"train_title_eng.tsv\"), 0, 1)"
   ]
  },
  {
   "cell_type": "code",
   "execution_count": null,
   "id": "c064ab7b",
   "metadata": {},
   "outputs": [],
   "source": [
    "trans_title(os.path.join(processed_data_folder, \"eval_title.tsv\"), os.path.join(processed_data_folder,\"eval_title_eng.tsv\"), 0, 1)"
   ]
  },
  {
   "cell_type": "code",
   "execution_count": null,
   "id": "c3896cee",
   "metadata": {},
   "outputs": [],
   "source": [
    "trans_title(os.path.join(data_folder, \"MediaEvalNewsImagesBatch04articles.tsv\"), os.path.join(processed_data_folder,\"test_title_eng.tsv\"), 0 , 4)"
   ]
  }
 ],
 "metadata": {
  "kernelspec": {
   "display_name": "Python 3 (ipykernel)",
   "language": "python",
   "name": "python3"
  },
  "language_info": {
   "codemirror_mode": {
    "name": "ipython",
    "version": 3
   },
   "file_extension": ".py",
   "mimetype": "text/x-python",
   "name": "python",
   "nbconvert_exporter": "python",
   "pygments_lexer": "ipython3",
   "version": "3.8.10"
  }
 },
 "nbformat": 4,
 "nbformat_minor": 5
}
